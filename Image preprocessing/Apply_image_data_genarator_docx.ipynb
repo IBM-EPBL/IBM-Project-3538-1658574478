{
  "nbformat": 4,
  "nbformat_minor": 0,
  "metadata": {
    "colab": {
      "provenance": []
    },
    "kernelspec": {
      "name": "python3",
      "display_name": "Python 3"
    },
    "language_info": {
      "name": "python"
    }
  },
  "cells": [
    {
      "cell_type": "code",
      "source": [
        "imort the imagedatagenerator library\n",
        "from keros.processing.image import imagedatagenerator\n",
        "image data agumentation\n",
        "#setting parameter for image data agumentation to the traing data\n",
        "train_datagen = Imagedatagenerator(rescale=1./255,shear_range=0.2,zoom_range=0.2,horizontal_flip=True)\n",
        "#Image data aumentation to the testing data\n",
        "test_datagen=Imagedatagenerator(rescale=1./255)\n",
        "loading our data and performing data agumentation\n",
        "#performing data agumentation to train data\n",
        "x_train = train_datagen.flow_from_directory('../data/train_set',target_size=(64,64),batch_size=5,color_mode='rgb',class_mode='categorical')\n",
        "#performing data agu,mentation to test data\n",
        "x_test = test_datagen.flow_from_directory('../data/test_set',target_size=(64,64),batch_size=5,color_mode='rgb',class_mode='categorical')\n",
        "\n",
        "Found 742 images belonging to 4 classes.\n",
        "Found 198 images belonging to 4 classes."
      ],
      "metadata": {
        "id": "7odjzBjl8IRQ"
      },
      "execution_count": null,
      "outputs": []
    }
  ]
}